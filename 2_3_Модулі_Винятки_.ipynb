{
 "cells": [
  {
   "cell_type": "markdown",
   "id": "1561554f",
   "metadata": {
    "id": "1561554f"
   },
   "source": [
    "# Домашнє завдання до теми \"Модулі. Винятки (Exceptions)\"\n",
    "\n"
   ]
  },
  {
   "cell_type": "markdown",
   "id": "81e2a211-19ca-4129-92ff-c4a425698170",
   "metadata": {
    "ExecuteTime": {
     "end_time": "2022-10-22T04:15:21.939494Z",
     "start_time": "2022-10-22T04:15:21.933981Z"
    },
    "id": "c094769a"
   },
   "source": [
    "Почнемо з закріплення матеріалу щодо фукнцій і віпрацювання роботи з модулем `random`.\n",
    "\n",
    "1. Напишіть функцію `get_random_int_list`, яка приймає один аргумент - кількість чисел `n`, і повертає список, що містить `n` випадкових цілих чисел з діапазону від 0 до 100 включно. Для генерації випадкових чисел використовуйте модуль `random`.\n",
    "\n",
    "  **Вимоги до реалізації:**\n",
    "\n",
    "  - Функція повинна приймати один аргумент `n` - кількість чисел у списку.\n",
    "  - Для генерації випадкових чисел використовуйте функцію `random.randint(0, 100)`.\n",
    "  - Повернутий список має містити рівно `n` випадкових чисел.\n",
    "\n",
    "  **Приклади виклику функції та очікувані результати:**\n",
    "\n",
    "  1. **Приклад 1:**\n",
    "    - Виклик функції: `get_random_int_list(5)`\n",
    "    - Очікуваний результат: Список з 5 випадковими числами, наприклад, `[23, 77, 45, 8, 91]`. Кожен запуск може повертати різні числа через випадковість.\n",
    "\n",
    "  2. **Приклад 2:**\n",
    "    - Виклик функції: `get_random_int_list(3)`\n",
    "    - Очікуваний результат: Список з 3 випадковими числами, наприклад, `[64, 20, 37]`.\n",
    "\n",
    "  3. **Приклад 3:**\n",
    "    - Виклик функції: `get_random_int_list(0)`\n",
    "    - Очікуваний результат: Порожній список `[]`, оскільки було запитано 0 чисел.\n",
    "\n",
    "Продемонструйте результати робити функції запустивши код нижче."
   ]
  },
  {
   "cell_type": "code",
   "execution_count": 1,
   "id": "c0e4be34-9a41-4e2b-b85a-b36e9aa73b83",
   "metadata": {
    "execution": {
     "iopub.execute_input": "2025-06-28T12:08:18.178939Z",
     "iopub.status.busy": "2025-06-28T12:08:18.178939Z",
     "iopub.status.idle": "2025-06-28T12:08:18.182691Z",
     "shell.execute_reply": "2025-06-28T12:08:18.182691Z",
     "shell.execute_reply.started": "2025-06-28T12:08:18.178939Z"
    }
   },
   "outputs": [],
   "source": [
    "import random"
   ]
  },
  {
   "cell_type": "code",
   "execution_count": null,
   "id": "b18f12bc-c820-4474-82c4-57c56ebce6a8",
   "metadata": {
    "execution": {
     "iopub.execute_input": "2025-06-28T13:01:24.212125Z",
     "iopub.status.busy": "2025-06-28T13:01:24.212125Z",
     "iopub.status.idle": "2025-06-28T13:01:24.215798Z",
     "shell.execute_reply": "2025-06-28T13:01:24.215798Z",
     "shell.execute_reply.started": "2025-06-28T13:01:24.212125Z"
    },
    "id": "m5hUhAQaqP78"
   },
   "outputs": [],
   "source": [
    "def get_random_int_list(n):\n",
    "    random_list = []\n",
    "    for _ in range(n):\n",
    "        random_number = random.randint(0, 100)\n",
    "        random_list.append(random_number)\n",
    "    return random_list    "
   ]
  },
  {
   "cell_type": "code",
   "execution_count": 10,
   "id": "XV-QkjcbqZNv",
   "metadata": {
    "execution": {
     "iopub.execute_input": "2025-06-28T13:01:27.008900Z",
     "iopub.status.busy": "2025-06-28T13:01:27.007681Z",
     "iopub.status.idle": "2025-06-28T13:01:27.012170Z",
     "shell.execute_reply": "2025-06-28T13:01:27.012170Z",
     "shell.execute_reply.started": "2025-06-28T13:01:27.008900Z"
    },
    "id": "XV-QkjcbqZNv"
   },
   "outputs": [
    {
     "name": "stdout",
     "output_type": "stream",
     "text": [
      "[10, 32, 5, 91, 65]\n",
      "[0, 92, 77]\n",
      "[]\n",
      "[39, 4, 76, 69, 7, 9, 88, 92]\n"
     ]
    }
   ],
   "source": [
    "for number in [5, 3, 0, 8]:\n",
    "  print(get_random_int_list(number))"
   ]
  },
  {
   "cell_type": "markdown",
   "id": "0b8b16b7-6e49-4280-9fd7-01b20e3154bf",
   "metadata": {
    "id": "iBHEcmV7R34X"
   },
   "source": [
    "2. **Конвертер рядка в число**\n",
    "\n",
    "  **Опис завдання:**\n",
    "\n",
    "  Створіть функцію `string_to_int`, яка приймає рядок і намагається перетворити його в ціле число. Якщо рядок не можна перетворити на ціле число, функція повинна обробити виключення про неправильне значення, вивести на екран `\"Некоректне введення\"` і повернути `None`.\n",
    "\n",
    "  **Приклади виклику функції:**\n",
    "\n",
    "  - `string_to_int(\"123\")` повинно повернути `123`.\n",
    "  - `string_to_int(\"abc\")` повинно вивести повідомлення `\"Некоректне введення\"` і повернути `None`."
   ]
  },
  {
   "cell_type": "code",
   "execution_count": 13,
   "id": "5UT2YNrISdLR",
   "metadata": {
    "execution": {
     "iopub.execute_input": "2025-06-28T19:24:25.360716Z",
     "iopub.status.busy": "2025-06-28T19:24:25.360716Z",
     "iopub.status.idle": "2025-06-28T19:24:25.363825Z",
     "shell.execute_reply": "2025-06-28T19:24:25.363825Z",
     "shell.execute_reply.started": "2025-06-28T19:24:25.360716Z"
    },
    "id": "5UT2YNrISdLR"
   },
   "outputs": [],
   "source": [
    "def string_to_int(x):\n",
    "    try:\n",
    "        return int(x)\n",
    "    except ValueError:\n",
    "        print('Некоректне введення')\n",
    "        return None"
   ]
  },
  {
   "cell_type": "markdown",
   "id": "UbIaPiOHSgE7",
   "metadata": {
    "id": "UbIaPiOHSgE7"
   },
   "source": [
    "Продемонструйте результати робити функції запустивши код нижче."
   ]
  },
  {
   "cell_type": "code",
   "execution_count": 14,
   "id": "AL7sINtwSgcs",
   "metadata": {
    "execution": {
     "iopub.execute_input": "2025-06-28T19:24:27.986592Z",
     "iopub.status.busy": "2025-06-28T19:24:27.986592Z",
     "iopub.status.idle": "2025-06-28T19:24:27.992452Z",
     "shell.execute_reply": "2025-06-28T19:24:27.992452Z",
     "shell.execute_reply.started": "2025-06-28T19:24:27.986592Z"
    },
    "id": "AL7sINtwSgcs"
   },
   "outputs": [
    {
     "name": "stdout",
     "output_type": "stream",
     "text": [
      "Некоректне введення\n",
      "Некоректне введення\n"
     ]
    },
    {
     "data": {
      "text/plain": [
       "{'123': 123, 'abc': None, '456.78': None, '100': 100}"
      ]
     },
     "execution_count": 14,
     "metadata": {},
     "output_type": "execute_result"
    }
   ],
   "source": [
    "test_inputs = [\"123\", \"abc\", \"456.78\", \"100\"]\n",
    "results = {input_value: string_to_int(input_value) for input_value in test_inputs}\n",
    "results\n"
   ]
  },
  {
   "cell_type": "markdown",
   "id": "KkzLp29pQ1-U",
   "metadata": {
    "id": "KkzLp29pQ1-U"
   },
   "source": [
    "3. **Контроль введення користувача**\n",
    "\n",
    "  Створіть функцію `check_age`, яка приймає на вхід вік користувача у форматі рядок і перевіряє, чи є користувач повнолітнім (18 років і старше). Якщо введене значення не може бути перетворено на ціле число, функція повинна обробити виняток, вивести на екран `\"Некоректне введення. Будь ласка, введіть числове значення.\"` і повернути `False`. Якщо вік користувача менше 18, вивести повідомлення `\"Ви не повнолітній!\"` і також повернути `False`. У випадку, коли вік 18 років або більше, вивести повідомлення `\"Ви повнолітній.\"` і повернути `True`.\n",
    "\n",
    "  **Приклад роботи програми:**\n",
    "\n",
    "  1. Користувач вводить `\"двадцять\"`: програма виводить на екрнан `\"Некоректне введення. Будь ласка, введіть числове значення.\"` і повертає `False`.\n",
    "  2. Користувач вводить `\"17\"`: програма виводить `\"Ви не повнолітній!\"` і повертає `False`.\n",
    "  3. Користувач вводить `\"18\"`: програма виводить `\"Ви повнолітній.\"` і повертає `True`.\n"
   ]
  },
  {
   "cell_type": "code",
   "execution_count": 19,
   "id": "K3PTENm-Ae3-",
   "metadata": {
    "execution": {
     "iopub.execute_input": "2025-06-28T20:04:57.495608Z",
     "iopub.status.busy": "2025-06-28T20:04:57.495608Z",
     "iopub.status.idle": "2025-06-28T20:04:57.506912Z",
     "shell.execute_reply": "2025-06-28T20:04:57.506912Z",
     "shell.execute_reply.started": "2025-06-28T20:04:57.495608Z"
    },
    "id": "K3PTENm-Ae3-"
   },
   "outputs": [],
   "source": [
    "def check_age(age: str):\n",
    "    try:\n",
    "        age_number = int(age)\n",
    "    except ValueError:\n",
    "        print('Некоректне введення. Будь ласка, введіть числове значення.')\n",
    "        return False\n",
    "        \n",
    "    if age_number < 18:\n",
    "        print('Ви не повнолітній!')\n",
    "        return False\n",
    "    else:\n",
    "        print('Ви повнолітній.')\n",
    "        return True"
   ]
  },
  {
   "cell_type": "markdown",
   "id": "huphMh7YR2GJ",
   "metadata": {
    "id": "huphMh7YR2GJ"
   },
   "source": [
    "Продемонструйте результати робити функції запустивши код нижче."
   ]
  },
  {
   "cell_type": "code",
   "execution_count": 20,
   "id": "YuEQrntVRgSE",
   "metadata": {
    "execution": {
     "iopub.execute_input": "2025-06-28T20:05:00.795617Z",
     "iopub.status.busy": "2025-06-28T20:05:00.795617Z",
     "iopub.status.idle": "2025-06-28T20:05:00.800922Z",
     "shell.execute_reply": "2025-06-28T20:05:00.800922Z",
     "shell.execute_reply.started": "2025-06-28T20:05:00.795617Z"
    },
    "id": "YuEQrntVRgSE"
   },
   "outputs": [
    {
     "name": "stdout",
     "output_type": "stream",
     "text": [
      "Некоректне введення. Будь ласка, введіть числове значення.\n",
      "Ви не повнолітній!\n",
      "Ви повнолітній.\n"
     ]
    },
    {
     "data": {
      "text/plain": [
       "[False, False, True]"
      ]
     },
     "execution_count": 20,
     "metadata": {},
     "output_type": "execute_result"
    }
   ],
   "source": [
    "test_inputs = [\"двадцять\", \"17\", \"18\"]\n",
    "results = [check_age(input_value) for input_value in test_inputs]\n",
    "results"
   ]
  },
  {
   "cell_type": "markdown",
   "id": "CQg-zIJGTqjw",
   "metadata": {
    "id": "CQg-zIJGTqjw"
   },
   "source": [
    "4. **Обчислення середнього з перевіркою:** Напишіть функцію `calculate_average`, яка приймає на вхід список чисел і обчислює середнє арифметичне значення цих чисел. Функція повинна перевіряти, що всі елементи списку є числами. Якщо серед елементів списку зустрічається елемент, який не є числом, функція повинна вивести повідомлення `\"Всі елементи повинні бути числами\"` і повернути `None`.\n",
    "\n",
    "  **Приклади виклику функції:**\n",
    "\n",
    "  - `calculate_average([1, 2, 3, 4, 5])` повинно повернути `3.0`.\n",
    "  - `calculate_average([1, \"2\", 3])` повинно вивести `\"Всі елементи повинні бути числами\"` і повернути `None`.\n",
    "  - `calculate_average([-1.1, \"ф\", 4])` повинно вивести `\"Всі елементи повинні бути числами\"` і повернути `None`."
   ]
  },
  {
   "cell_type": "code",
   "execution_count": 21,
   "id": "91VU_y5sUAKB",
   "metadata": {
    "execution": {
     "iopub.execute_input": "2025-06-29T11:18:04.173230Z",
     "iopub.status.busy": "2025-06-29T11:18:04.173230Z",
     "iopub.status.idle": "2025-06-29T11:18:04.178567Z",
     "shell.execute_reply": "2025-06-29T11:18:04.178567Z",
     "shell.execute_reply.started": "2025-06-29T11:18:04.173230Z"
    },
    "id": "91VU_y5sUAKB"
   },
   "outputs": [],
   "source": [
    "def calculate_average(*args):\n",
    "    for x in args:\n",
    "        if not isinstance(x,(int, float)):\n",
    "            print('Всі елементи повинні бути числами')\n",
    "            return None\n",
    "    return sum(args) / len(args)"
   ]
  },
  {
   "cell_type": "markdown",
   "id": "ib-JWKKmUeF8",
   "metadata": {
    "id": "ib-JWKKmUeF8"
   },
   "source": [
    "Продемонструйте результати робити функції запустивши код нижче."
   ]
  },
  {
   "cell_type": "code",
   "execution_count": 23,
   "id": "axEmZx0rUNqT",
   "metadata": {
    "execution": {
     "iopub.execute_input": "2025-06-29T11:21:16.891192Z",
     "iopub.status.busy": "2025-06-29T11:21:16.891192Z",
     "iopub.status.idle": "2025-06-29T11:21:16.896836Z",
     "shell.execute_reply": "2025-06-29T11:21:16.896836Z",
     "shell.execute_reply.started": "2025-06-29T11:21:16.891192Z"
    },
    "id": "axEmZx0rUNqT"
   },
   "outputs": [
    {
     "name": "stdout",
     "output_type": "stream",
     "text": [
      "Всі елементи повинні бути числами\n",
      "Всі елементи повинні бути числами\n"
     ]
    },
    {
     "data": {
      "text/plain": [
       "[3.0, None, 20.0, None]"
      ]
     },
     "execution_count": 23,
     "metadata": {},
     "output_type": "execute_result"
    }
   ],
   "source": [
    "test_data = [\n",
    "    [1, 2, 3, 4, 5],  # Коректні дані\n",
    "    [1, \"2\", 3],      # Некоректні дані\n",
    "    [10, 20, 30],     # Коректні дані\n",
    "    [-1.1, \"ф\", 4]    # Некоректні дані\n",
    "]\n",
    "\n",
    "results = [calculate_average(*data) for data in test_data]\n",
    "results"
   ]
  },
  {
   "cell_type": "code",
   "execution_count": null,
   "id": "a0e87f04-72c6-416f-9065-404f9d399ac2",
   "metadata": {},
   "outputs": [],
   "source": []
  }
 ],
 "metadata": {
  "colab": {
   "provenance": []
  },
  "kernelspec": {
   "display_name": "Python [conda env:base] *",
   "language": "python",
   "name": "conda-base-py"
  },
  "language_info": {
   "codemirror_mode": {
    "name": "ipython",
    "version": 3
   },
   "file_extension": ".py",
   "mimetype": "text/x-python",
   "name": "python",
   "nbconvert_exporter": "python",
   "pygments_lexer": "ipython3",
   "version": "3.12.7"
  },
  "toc": {
   "base_numbering": 1,
   "nav_menu": {},
   "number_sections": true,
   "sideBar": true,
   "skip_h1_title": false,
   "title_cell": "Table of Contents",
   "title_sidebar": "Contents",
   "toc_cell": false,
   "toc_position": {},
   "toc_section_display": true,
   "toc_window_display": false
  }
 },
 "nbformat": 4,
 "nbformat_minor": 5
}
