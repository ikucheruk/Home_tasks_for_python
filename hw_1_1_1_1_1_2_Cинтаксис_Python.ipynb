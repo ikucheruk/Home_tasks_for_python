{
 "cells": [
  {
   "cell_type": "markdown",
   "metadata": {
    "id": "tvPKWXfD7yRv"
   },
   "source": [
    "#Домашнє завдання до теми \"Синтаксис Python\"\n",
    "\n",
    "В ДЗ першого модулю важливою умовою виконання завдань є те, що ми не імпортуємо жодних бібліотек, а робимо все на чистому Python, використовуючи лише базовий функціонал. Це необхідно аби відпрацювати роботу з базовими типами даних. А використовувати бібліотеки ми ще навчимось далі :)"
   ]
  },
  {
   "cell_type": "markdown",
   "metadata": {
    "id": "xE1KHmUbQVbC"
   },
   "source": [
    "1. Створіть змінну, яка буде зберігати кількість яблук. І надайте їй значення 5. Виведіть значення змінної на екран."
   ]
  },
  {
   "cell_type": "code",
   "execution_count": 4,
   "metadata": {
    "execution": {
     "iopub.execute_input": "2025-06-10T12:09:59.518379Z",
     "iopub.status.busy": "2025-06-10T12:09:59.518379Z",
     "iopub.status.idle": "2025-06-10T12:09:59.522990Z",
     "shell.execute_reply": "2025-06-10T12:09:59.522990Z",
     "shell.execute_reply.started": "2025-06-10T12:09:59.518379Z"
    },
    "id": "iz5QpN-vQUtN"
   },
   "outputs": [],
   "source": [
    "apple = 5"
   ]
  },
  {
   "cell_type": "markdown",
   "metadata": {
    "id": "wx6RsBHAQd9q"
   },
   "source": [
    "2. Виведіть тип змінної, створеної в завданні (1)."
   ]
  },
  {
   "cell_type": "code",
   "execution_count": 5,
   "metadata": {
    "execution": {
     "iopub.execute_input": "2025-06-10T12:10:12.588196Z",
     "iopub.status.busy": "2025-06-10T12:10:12.587783Z",
     "iopub.status.idle": "2025-06-10T12:10:12.596859Z",
     "shell.execute_reply": "2025-06-10T12:10:12.595311Z",
     "shell.execute_reply.started": "2025-06-10T12:10:12.588196Z"
    },
    "id": "f48l2PhiQi86"
   },
   "outputs": [
    {
     "data": {
      "text/plain": [
       "int"
      ]
     },
     "execution_count": 5,
     "metadata": {},
     "output_type": "execute_result"
    }
   ],
   "source": [
    "type(apple)"
   ]
  },
  {
   "cell_type": "markdown",
   "metadata": {
    "id": "UEc59pPcQnva"
   },
   "source": [
    "3. Додайте до значення змінної, створеної в завданні (1) число `12` і виведіть результат на екран з допомогою команди `print()`."
   ]
  },
  {
   "cell_type": "code",
   "execution_count": 6,
   "metadata": {
    "execution": {
     "iopub.execute_input": "2025-06-10T12:10:25.133849Z",
     "iopub.status.busy": "2025-06-10T12:10:25.132326Z",
     "iopub.status.idle": "2025-06-10T12:10:25.139683Z",
     "shell.execute_reply": "2025-06-10T12:10:25.138660Z",
     "shell.execute_reply.started": "2025-06-10T12:10:25.133849Z"
    },
    "id": "gu-vkERpQoCY"
   },
   "outputs": [
    {
     "name": "stdout",
     "output_type": "stream",
     "text": [
      "17\n"
     ]
    }
   ],
   "source": [
    "print(apple + 12)"
   ]
  },
  {
   "cell_type": "markdown",
   "metadata": {
    "id": "yOztaNuqqcMy"
   },
   "source": [
    "4. Запустіть код нижче аби створити дві змінні."
   ]
  },
  {
   "cell_type": "code",
   "execution_count": 7,
   "metadata": {
    "execution": {
     "iopub.execute_input": "2025-06-10T12:10:35.772135Z",
     "iopub.status.busy": "2025-06-10T12:10:35.768286Z",
     "iopub.status.idle": "2025-06-10T12:10:35.779661Z",
     "shell.execute_reply": "2025-06-10T12:10:35.778115Z",
     "shell.execute_reply.started": "2025-06-10T12:10:35.772135Z"
    },
    "id": "kbXeQSgcqncV"
   },
   "outputs": [],
   "source": [
    "a = 48\n",
    "b = 3"
   ]
  },
  {
   "cell_type": "markdown",
   "metadata": {
    "id": "9ojIRMw3qvw8"
   },
   "source": [
    "Створіть нову клітинку нижче цієї з допомогою натискання англійської літери `B`, коли ви НЕ в режимі редагування клітинки. В створеній клітинці створіть змінну `c`, яка буде містити результат ділення `a` на `b`."
   ]
  },
  {
   "cell_type": "code",
   "execution_count": 9,
   "metadata": {
    "execution": {
     "iopub.execute_input": "2025-06-10T12:12:12.566920Z",
     "iopub.status.busy": "2025-06-10T12:12:12.566920Z",
     "iopub.status.idle": "2025-06-10T12:12:12.571566Z",
     "shell.execute_reply": "2025-06-10T12:12:12.571566Z",
     "shell.execute_reply.started": "2025-06-10T12:12:12.566920Z"
    }
   },
   "outputs": [],
   "source": [
    "c = a / b"
   ]
  },
  {
   "cell_type": "code",
   "execution_count": 15,
   "metadata": {
    "execution": {
     "iopub.execute_input": "2025-06-10T12:16:02.499572Z",
     "iopub.status.busy": "2025-06-10T12:16:02.499572Z",
     "iopub.status.idle": "2025-06-10T12:16:02.506198Z",
     "shell.execute_reply": "2025-06-10T12:16:02.505810Z",
     "shell.execute_reply.started": "2025-06-10T12:16:02.499572Z"
    }
   },
   "outputs": [
    {
     "name": "stdout",
     "output_type": "stream",
     "text": [
      "48 3 16.0\n"
     ]
    }
   ],
   "source": [
    "print(a, b, c)\n"
   ]
  },
  {
   "cell_type": "code",
   "execution_count": 17,
   "metadata": {
    "execution": {
     "iopub.execute_input": "2025-06-10T12:17:11.612845Z",
     "iopub.status.busy": "2025-06-10T12:17:11.612845Z",
     "iopub.status.idle": "2025-06-10T12:17:11.621069Z",
     "shell.execute_reply": "2025-06-10T12:17:11.619880Z",
     "shell.execute_reply.started": "2025-06-10T12:17:11.612845Z"
    }
   },
   "outputs": [
    {
     "data": {
      "text/plain": [
       "(int, int, float)"
      ]
     },
     "execution_count": 17,
     "metadata": {},
     "output_type": "execute_result"
    }
   ],
   "source": [
    "type(a), type(b), type (c)"
   ]
  },
  {
   "cell_type": "markdown",
   "metadata": {
    "id": "XcmIZ24wq4px"
   },
   "source": [
    "Створіть ще одну нову клітинку, тільки тепер вище цієї. Для цього натисніть  англійську літеру `A`, коли ви НЕ в режимі редагування клітинки. Виведіть в новоствореній клітинці значення і тип кожної зі змінних `a`, `b`, `c`. Проаналізуйте результат.\n"
   ]
  },
  {
   "cell_type": "markdown",
   "metadata": {
    "id": "v9rj7B4-sGaG"
   },
   "source": [
    "У Python, коли ви ділите одне ціле число на інше, результат буде автоматично приведений до типу float, якщо він не є цілим числом. Це робиться для того, щоб забезпечити більш точний результат ділення, особливо коли результат міг би бути десятковим числом."
   ]
  },
  {
   "cell_type": "markdown",
   "metadata": {
    "id": "irjcdM8puaEx"
   },
   "source": [
    "5. Перегляньте наступний код, подумайте, що він виведе в результаті, та потім, запустіть його."
   ]
  },
  {
   "cell_type": "code",
   "execution_count": 18,
   "metadata": {
    "execution": {
     "iopub.execute_input": "2025-06-10T12:18:05.354376Z",
     "iopub.status.busy": "2025-06-10T12:18:05.353381Z",
     "iopub.status.idle": "2025-06-10T12:18:05.363896Z",
     "shell.execute_reply": "2025-06-10T12:18:05.362405Z",
     "shell.execute_reply.started": "2025-06-10T12:18:05.354376Z"
    },
    "id": "KmhCY0ttt8rW"
   },
   "outputs": [
    {
     "data": {
      "text/plain": [
       "38"
      ]
     },
     "execution_count": 18,
     "metadata": {},
     "output_type": "execute_result"
    }
   ],
   "source": [
    "a = 10\n",
    "a = 12\n",
    "a = 15\n",
    "\n",
    "b = 4\n",
    "b = 8\n",
    "b = 14\n",
    "\n",
    "c = 3\n",
    "c = 6\n",
    "c = 9\n",
    "\n",
    "\n",
    "a + b + c"
   ]
  },
  {
   "cell_type": "markdown",
   "metadata": {
    "id": "JrUTyGyQufwq"
   },
   "source": [
    "В клітинці нижче закоментуйте деякі рядки так, аби в результаті виконання останнього рядка коду (`a + b + c`) вивелось `17`.\n",
    "Увага! Рядки треба саме закоментувати, а не видалити.\n",
    "Можна зручно коментувати рядки з допомогою комбінації клавіш `Ctrl + /` (`Command + /` для Mac)"
   ]
  },
  {
   "cell_type": "code",
   "execution_count": 19,
   "metadata": {
    "execution": {
     "iopub.execute_input": "2025-06-10T12:20:01.747657Z",
     "iopub.status.busy": "2025-06-10T12:20:01.747657Z",
     "iopub.status.idle": "2025-06-10T12:20:01.759260Z",
     "shell.execute_reply": "2025-06-10T12:20:01.757722Z",
     "shell.execute_reply.started": "2025-06-10T12:20:01.747657Z"
    },
    "id": "R4VXgSQKwVoc"
   },
   "outputs": [
    {
     "data": {
      "text/plain": [
       "17"
      ]
     },
     "execution_count": 19,
     "metadata": {},
     "output_type": "execute_result"
    }
   ],
   "source": [
    "a = 10\n",
    "# a = 12\n",
    "# a = 15\n",
    "\n",
    "b = 4\n",
    "# b = 8\n",
    "# b = 14\n",
    "\n",
    "c = 3\n",
    "# c = 6\n",
    "# c = 9\n",
    "\n",
    "\n",
    "a + b + c"
   ]
  }
 ],
 "metadata": {
  "colab": {
   "provenance": []
  },
  "kernelspec": {
   "display_name": "Python [conda env:base] *",
   "language": "python",
   "name": "conda-base-py"
  },
  "language_info": {
   "codemirror_mode": {
    "name": "ipython",
    "version": 3
   },
   "file_extension": ".py",
   "mimetype": "text/x-python",
   "name": "python",
   "nbconvert_exporter": "python",
   "pygments_lexer": "ipython3",
   "version": "3.12.7"
  }
 },
 "nbformat": 4,
 "nbformat_minor": 4
}
