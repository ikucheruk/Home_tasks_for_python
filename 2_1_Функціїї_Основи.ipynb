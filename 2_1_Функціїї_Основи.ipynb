{
 "cells": [
  {
   "cell_type": "markdown",
   "metadata": {
    "id": "QtHabST6Ez_n"
   },
   "source": [
    "# Домашнє завдання до теми \"Functions\""
   ]
  },
  {
   "cell_type": "markdown",
   "metadata": {
    "id": "6pg_NzFq5_kO"
   },
   "source": [
    "1. Напишіть фукнцію `print_message`, яка виводить на екран \"Я програмую на Python💪\" і викличіть цю фукнцію 5 разів (найкраще це зробити в циклі).\n",
    "\n",
    "  **Увага**: фукнція має робити чітко лише зазначений функціонал. Наявність додаткового функціоналу і аргументів, які не потрібні для виконання безпосередньо завдання, буде вважатись помилкою."
   ]
  },
  {
   "cell_type": "code",
   "execution_count": 7,
   "metadata": {
    "execution": {
     "iopub.execute_input": "2025-06-23T20:21:27.188602Z",
     "iopub.status.busy": "2025-06-23T20:21:27.188602Z",
     "iopub.status.idle": "2025-06-23T20:21:27.192477Z",
     "shell.execute_reply": "2025-06-23T20:21:27.192477Z",
     "shell.execute_reply.started": "2025-06-23T20:21:27.188602Z"
    },
    "id": "RbXsfwI_D8ql"
   },
   "outputs": [],
   "source": [
    "def print_message():\n",
    "    print(\"Я програмую на Python💪\")"
   ]
  },
  {
   "cell_type": "code",
   "execution_count": 10,
   "metadata": {
    "execution": {
     "iopub.execute_input": "2025-06-23T20:32:31.076535Z",
     "iopub.status.busy": "2025-06-23T20:32:31.075538Z",
     "iopub.status.idle": "2025-06-23T20:32:31.079832Z",
     "shell.execute_reply": "2025-06-23T20:32:31.079832Z",
     "shell.execute_reply.started": "2025-06-23T20:32:31.076535Z"
    }
   },
   "outputs": [
    {
     "name": "stdout",
     "output_type": "stream",
     "text": [
      "Я програмую на Python💪\n",
      "Я програмую на Python💪\n",
      "Я програмую на Python💪\n",
      "Я програмую на Python💪\n",
      "Я програмую на Python💪\n"
     ]
    }
   ],
   "source": [
    "for i in range(5):\n",
    "    print_message()"
   ]
  },
  {
   "cell_type": "markdown",
   "metadata": {
    "id": "oyRpWRXWBL9N"
   },
   "source": [
    "2. Напишіть функцію `calculation` яка приймає на вхід 4 аргументи типу int - `a`, `b`, `c`, `d` і вертає результат обчислення такої формули: $ (a + b - c) * d $.\n",
    "\n",
    "  Викличте функцію на наступному наборі аргументів і виведіть результат на екран:\n",
    "  ```\n",
    "  a = 16\n",
    "  b = 4\n",
    "  c = 9\n",
    "  d = 3\n",
    "  ```"
   ]
  },
  {
   "cell_type": "code",
   "execution_count": 11,
   "metadata": {
    "execution": {
     "iopub.execute_input": "2025-06-23T20:38:27.705585Z",
     "iopub.status.busy": "2025-06-23T20:38:27.705585Z",
     "iopub.status.idle": "2025-06-23T20:38:27.709177Z",
     "shell.execute_reply": "2025-06-23T20:38:27.709177Z",
     "shell.execute_reply.started": "2025-06-23T20:38:27.705585Z"
    },
    "id": "Ggt2tx6kD-LS"
   },
   "outputs": [],
   "source": [
    "def calculation(a: int, b: int, c: int, d: int):\n",
    "    return (a + b - c) * d\n"
   ]
  },
  {
   "cell_type": "code",
   "execution_count": 14,
   "metadata": {
    "execution": {
     "iopub.execute_input": "2025-06-23T20:47:11.339164Z",
     "iopub.status.busy": "2025-06-23T20:47:11.339164Z",
     "iopub.status.idle": "2025-06-23T20:47:11.343160Z",
     "shell.execute_reply": "2025-06-23T20:47:11.343160Z",
     "shell.execute_reply.started": "2025-06-23T20:47:11.339164Z"
    }
   },
   "outputs": [
    {
     "name": "stdout",
     "output_type": "stream",
     "text": [
      "33\n"
     ]
    }
   ],
   "source": [
    "result = calculation(16, 4, 9, 3)\n",
    "print(result)"
   ]
  },
  {
   "cell_type": "markdown",
   "metadata": {
    "id": "5hf1CbllDU_t"
   },
   "source": [
    "3. Напишіть функцію, яка додає до аргумента 15 і вертає результат додавання. Викличте функцію, передаючи в якості аргументів кожну з наступних змінних по черзі, і виведіть кожного разу результат на екран.\n",
    "```\n",
    "x = 9\n",
    "y = 14\n",
    "z = -19\n",
    "```"
   ]
  },
  {
   "cell_type": "code",
   "execution_count": 16,
   "metadata": {
    "execution": {
     "iopub.execute_input": "2025-06-23T20:53:28.950491Z",
     "iopub.status.busy": "2025-06-23T20:53:28.950491Z",
     "iopub.status.idle": "2025-06-23T20:53:28.953669Z",
     "shell.execute_reply": "2025-06-23T20:53:28.953669Z",
     "shell.execute_reply.started": "2025-06-23T20:53:28.950491Z"
    },
    "id": "GvEs_nUtD_Cd"
   },
   "outputs": [],
   "source": [
    "def add_15(x: int):\n",
    "    return(x + 15)"
   ]
  },
  {
   "cell_type": "code",
   "execution_count": 17,
   "metadata": {
    "execution": {
     "iopub.execute_input": "2025-06-23T20:54:04.234723Z",
     "iopub.status.busy": "2025-06-23T20:54:04.234723Z",
     "iopub.status.idle": "2025-06-23T20:54:04.238551Z",
     "shell.execute_reply": "2025-06-23T20:54:04.238551Z",
     "shell.execute_reply.started": "2025-06-23T20:54:04.234723Z"
    }
   },
   "outputs": [
    {
     "name": "stdout",
     "output_type": "stream",
     "text": [
      "24 29 -4\n"
     ]
    }
   ],
   "source": [
    "result_1 = add_15(9)\n",
    "result_2 = add_15(14)\n",
    "result_3 = add_15(-19)\n",
    "print(result_1, result_2, result_3)"
   ]
  },
  {
   "cell_type": "markdown",
   "metadata": {
    "id": "bUuVBhie53uK"
   },
   "source": [
    "4. Напишіть функцію `multipy_numbers`, яка приймає два числа як аргументи і повертає їх добуток.\n",
    "\n",
    "  Викличіть функцію `multipy_numbers` на парах чисел\n",
    "- 10 і 2\n",
    "- 7 і 8\n",
    "- 1024 і 999.\n",
    "  \n",
    "  Виведіть результат кожного виклику.\n",
    "  При виконанні цього завдання з використанням циклу - отримаєте 2х балів за нього :)"
   ]
  },
  {
   "cell_type": "code",
   "execution_count": 18,
   "metadata": {
    "execution": {
     "iopub.execute_input": "2025-06-23T20:57:45.079057Z",
     "iopub.status.busy": "2025-06-23T20:57:45.079057Z",
     "iopub.status.idle": "2025-06-23T20:57:45.081958Z",
     "shell.execute_reply": "2025-06-23T20:57:45.081958Z",
     "shell.execute_reply.started": "2025-06-23T20:57:45.079057Z"
    },
    "id": "cDqrgZ4YEAKj"
   },
   "outputs": [],
   "source": [
    "def multipy_numbers(x: int, y: int):\n",
    "    return(x * y)"
   ]
  },
  {
   "cell_type": "code",
   "execution_count": 25,
   "metadata": {
    "editable": true,
    "execution": {
     "iopub.execute_input": "2025-06-23T21:17:38.681685Z",
     "iopub.status.busy": "2025-06-23T21:17:38.681180Z",
     "iopub.status.idle": "2025-06-23T21:17:38.685100Z",
     "shell.execute_reply": "2025-06-23T21:17:38.685100Z",
     "shell.execute_reply.started": "2025-06-23T21:17:38.681685Z"
    },
    "slideshow": {
     "slide_type": ""
    },
    "tags": []
   },
   "outputs": [
    {
     "name": "stdout",
     "output_type": "stream",
     "text": [
      "20\n",
      "56\n",
      "1022976\n"
     ]
    }
   ],
   "source": [
    "multipy_result_1 = multipy_numbers(10, 2)\n",
    "multipy_result_2 = multipy_numbers(7, 8)\n",
    "multipy_result_3 = multipy_numbers(1024, 999)\n",
    "print(multipy_result_1)\n",
    "print(multipy_result_2)\n",
    "print(multipy_result_3)"
   ]
  },
  {
   "cell_type": "code",
   "execution_count": 26,
   "metadata": {
    "execution": {
     "iopub.execute_input": "2025-06-24T11:18:38.555132Z",
     "iopub.status.busy": "2025-06-24T11:18:38.555132Z",
     "iopub.status.idle": "2025-06-24T11:18:38.559158Z",
     "shell.execute_reply": "2025-06-24T11:18:38.559158Z",
     "shell.execute_reply.started": "2025-06-24T11:18:38.555132Z"
    }
   },
   "outputs": [
    {
     "name": "stdout",
     "output_type": "stream",
     "text": [
      "20\n",
      "56\n",
      "1022976\n"
     ]
    }
   ],
   "source": [
    "#виконання з використанням циклу\n",
    "results = [multipy_result_1, multipy_result_2, multipy_result_3]\n",
    "\n",
    "for result in results:\n",
    "    print(result)"
   ]
  },
  {
   "cell_type": "markdown",
   "metadata": {
    "id": "I03t46k27dDZ"
   },
   "source": [
    "5. **Ділення з перевіркою типів.**  \n",
    "\n",
    "  1. Напишіть функцію `int_division` яка приймає на вхід два аргументи типу `int` - `a` і `b`, і виконує ділення першого аргумента на другий: `a/b`. При цьому функція перед діленням перевіряє, чи другий аргумент не дорівнює 0. Якщо другий аргумент не 0, фукнція вертає результат ділення, інакше - замість виконання ділення, вертає повідомлення на екран \"Не можу виконати ділення на 0\".\n",
    "\n",
    "    Якщо типи, надані у функцію, не `int` - функція виводить повідомлення \"Не працюю з такими типами даних.\".\n",
    "\n",
    "  2. Запустіть функцію на наступних парах чисел:\n",
    "- 12 і 6\n",
    "- 20 і 0\n",
    "- 112 і 10\n",
    "- 99 і 0\n",
    "- 11 i 1.1\n",
    "\n",
    "    і виведіть на екран повідомлення \"Результат роботи функції: \" - і далі те, що повернула функція.\n",
    "\n",
    "  3. Дайте відповідь на питання: \"Чому в деяких випадках функція повернула None?\""
   ]
  },
  {
   "cell_type": "code",
   "execution_count": 40,
   "metadata": {
    "execution": {
     "iopub.execute_input": "2025-06-24T20:30:33.857485Z",
     "iopub.status.busy": "2025-06-24T20:30:33.857485Z",
     "iopub.status.idle": "2025-06-24T20:30:33.864089Z",
     "shell.execute_reply": "2025-06-24T20:30:33.864089Z",
     "shell.execute_reply.started": "2025-06-24T20:30:33.857485Z"
    },
    "id": "1-EQhxrAEEAb"
   },
   "outputs": [],
   "source": [
    "def int_division(a: int, b: int):\n",
    "    if type(a) != int or type(b) != int:\n",
    "        print( \"Не працюю з такими типами даних\")\n",
    "    elif b == 0:\n",
    "        print( \"Не можу виконати ділення на 0\")\n",
    "    else:\n",
    "        return a / b"
   ]
  },
  {
   "cell_type": "code",
   "execution_count": 41,
   "metadata": {
    "execution": {
     "iopub.execute_input": "2025-06-24T20:30:36.127444Z",
     "iopub.status.busy": "2025-06-24T20:30:36.127444Z",
     "iopub.status.idle": "2025-06-24T20:30:36.132653Z",
     "shell.execute_reply": "2025-06-24T20:30:36.132653Z",
     "shell.execute_reply.started": "2025-06-24T20:30:36.127444Z"
    }
   },
   "outputs": [
    {
     "name": "stdout",
     "output_type": "stream",
     "text": [
      "Не можу виконати ділення на 0\n",
      "Не можу виконати ділення на 0\n",
      "Не працюю з такими типами даних\n"
     ]
    }
   ],
   "source": [
    "res_1 = int_division(12, 6)\n",
    "res_2 = int_division(20, 0)\n",
    "res_3 = int_division(112, 10)\n",
    "res_4 = int_division(99, 0)\n",
    "res_5 = int_division(11, 1.1)\n"
   ]
  },
  {
   "cell_type": "code",
   "execution_count": 42,
   "metadata": {
    "execution": {
     "iopub.execute_input": "2025-06-24T20:30:43.784194Z",
     "iopub.status.busy": "2025-06-24T20:30:43.784194Z",
     "iopub.status.idle": "2025-06-24T20:30:43.788398Z",
     "shell.execute_reply": "2025-06-24T20:30:43.788398Z",
     "shell.execute_reply.started": "2025-06-24T20:30:43.784194Z"
    }
   },
   "outputs": [
    {
     "name": "stdout",
     "output_type": "stream",
     "text": [
      "Результат роботи функції: 2.0\n",
      "Результат роботи функції: None\n",
      "Результат роботи функції: 11.2\n",
      "Результат роботи функції: None\n",
      "Результат роботи функції: None\n"
     ]
    }
   ],
   "source": [
    "results_division = [res_1, res_2, res_3, res_4, res_5]\n",
    "\n",
    "for result in results_division:\n",
    "    print(f'Результат роботи функції: {result}')"
   ]
  },
  {
   "cell_type": "markdown",
   "metadata": {},
   "source": [
    "В res_2, res_4, res_5 функція повертає результат None, бо для заданих пар аргументів спрацьовує умова if або elif, де функція нічого не повертає, а лише виводить повідомлення. Це і є основною відмінністю між return i print().\n",
    "\n",
    "Далі я записала функцію без прінтів, а з return для кожної умови. Тоді None взагалі не виводиться, бо спрацьовують умови з поверненням повідомлення. "
   ]
  },
  {
   "cell_type": "code",
   "execution_count": 45,
   "metadata": {
    "execution": {
     "iopub.execute_input": "2025-06-24T20:42:10.100665Z",
     "iopub.status.busy": "2025-06-24T20:42:10.100665Z",
     "iopub.status.idle": "2025-06-24T20:42:10.107436Z",
     "shell.execute_reply": "2025-06-24T20:42:10.107436Z",
     "shell.execute_reply.started": "2025-06-24T20:42:10.100665Z"
    }
   },
   "outputs": [],
   "source": [
    "def int_division(a: int, b: int):\n",
    "    if type(a) != int or type(b) != int:\n",
    "        return \"Не працюю з такими типами даних\"\n",
    "    elif b == 0:\n",
    "        return \"Не можу виконати ділення на 0\"\n",
    "    else:\n",
    "        return a / b"
   ]
  },
  {
   "cell_type": "code",
   "execution_count": 46,
   "metadata": {
    "execution": {
     "iopub.execute_input": "2025-06-24T20:42:12.190516Z",
     "iopub.status.busy": "2025-06-24T20:42:12.190516Z",
     "iopub.status.idle": "2025-06-24T20:42:12.195655Z",
     "shell.execute_reply": "2025-06-24T20:42:12.195655Z",
     "shell.execute_reply.started": "2025-06-24T20:42:12.190516Z"
    }
   },
   "outputs": [],
   "source": [
    "res_1 = int_division(12, 6)\n",
    "res_2 = int_division(20, 0)\n",
    "res_3 = int_division(112, 10)\n",
    "res_4 = int_division(99, 0)\n",
    "res_5 = int_division(11, 1.1)"
   ]
  },
  {
   "cell_type": "code",
   "execution_count": 47,
   "metadata": {
    "execution": {
     "iopub.execute_input": "2025-06-24T20:42:14.725839Z",
     "iopub.status.busy": "2025-06-24T20:42:14.725839Z",
     "iopub.status.idle": "2025-06-24T20:42:14.730418Z",
     "shell.execute_reply": "2025-06-24T20:42:14.730418Z",
     "shell.execute_reply.started": "2025-06-24T20:42:14.725839Z"
    }
   },
   "outputs": [
    {
     "name": "stdout",
     "output_type": "stream",
     "text": [
      "Результат роботи функції: 2.0\n",
      "Результат роботи функції: Не можу виконати ділення на 0\n",
      "Результат роботи функції: 11.2\n",
      "Результат роботи функції: Не можу виконати ділення на 0\n",
      "Результат роботи функції: Не працюю з такими типами даних\n"
     ]
    }
   ],
   "source": [
    "results_division = [res_1, res_2, res_3, res_4, res_5]\n",
    "\n",
    "for result in results_division:\n",
    "    print(f'Результат роботи функції: {result}')"
   ]
  },
  {
   "cell_type": "code",
   "execution_count": null,
   "metadata": {},
   "outputs": [],
   "source": []
  }
 ],
 "metadata": {
  "colab": {
   "provenance": []
  },
  "kernelspec": {
   "display_name": "Python [conda env:base] *",
   "language": "python",
   "name": "conda-base-py"
  },
  "language_info": {
   "codemirror_mode": {
    "name": "ipython",
    "version": 3
   },
   "file_extension": ".py",
   "mimetype": "text/x-python",
   "name": "python",
   "nbconvert_exporter": "python",
   "pygments_lexer": "ipython3",
   "version": "3.12.7"
  }
 },
 "nbformat": 4,
 "nbformat_minor": 4
}
