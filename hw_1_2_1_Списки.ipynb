{
 "cells": [
  {
   "cell_type": "markdown",
   "metadata": {
    "id": "XO6mRLe59D3H"
   },
   "source": [
    "#Домашнє завдання до теми \"Списки\""
   ]
  },
  {
   "cell_type": "markdown",
   "metadata": {
    "id": "RK9HC3UZZ8HZ"
   },
   "source": [
    "У нас є наступний список:"
   ]
  },
  {
   "cell_type": "code",
   "execution_count": 29,
   "metadata": {
    "execution": {
     "iopub.execute_input": "2025-06-13T21:24:04.434554Z",
     "iopub.status.busy": "2025-06-13T21:24:04.434554Z",
     "iopub.status.idle": "2025-06-13T21:24:04.440516Z",
     "shell.execute_reply": "2025-06-13T21:24:04.439546Z",
     "shell.execute_reply.started": "2025-06-13T21:24:04.434554Z"
    },
    "id": "7eOLd__FZyZp"
   },
   "outputs": [],
   "source": [
    "my_list = [\n",
    "    78, 12, 14, 27, 47, 28, 51, 46, 94, 37, 42, 20, 52, 33, 11, 11, 51,\n",
    "    20, 81, 54, 86, 51, 38, 42, 49, 99, 76, 17,  9, 23, 97, 29, 29, 63,\n",
    "    40, 11, 31, 76, 15, 21, 29, 75, 35,  2, 10, 71, 17, 10, 13,  7, 44,\n",
    "    12, 19, 61, 13, 25, 62, 46, 10, 44, 75, 57, 20, 57,  3, 44, 16, 28,\n",
    "    79, 57, 62, 70, 95,  8, 47, 82, 80, 45, 36, 44, 79, 95, 73, 42, 29,\n",
    "    83, 80, 66, 56,  8, 73,  5, 99, 65, 65, 98, 17, 36, 16, 60\n",
    "]"
   ]
  },
  {
   "cell_type": "markdown",
   "metadata": {
    "id": "xRqI75kkZ_2A"
   },
   "source": [
    "Будемо з ним працювати в наступних завданнях."
   ]
  },
  {
   "cell_type": "markdown",
   "metadata": {
    "id": "MOuwDHIdaC3O"
   },
   "source": [
    "1. Виведіть 5 перших елементів списку `my_list` з допомогою слайсингу."
   ]
  },
  {
   "cell_type": "code",
   "execution_count": 32,
   "metadata": {
    "execution": {
     "iopub.execute_input": "2025-06-13T21:24:27.765305Z",
     "iopub.status.busy": "2025-06-13T21:24:27.765305Z",
     "iopub.status.idle": "2025-06-13T21:24:27.770746Z",
     "shell.execute_reply": "2025-06-13T21:24:27.770240Z",
     "shell.execute_reply.started": "2025-06-13T21:24:27.765305Z"
    },
    "id": "Uypwuc8wZ_T2"
   },
   "outputs": [
    {
     "data": {
      "text/plain": [
       "[78, 12, 14, 27, 47]"
      ]
     },
     "execution_count": 32,
     "metadata": {},
     "output_type": "execute_result"
    }
   ],
   "source": [
    "my_list[:5]"
   ]
  },
  {
   "cell_type": "markdown",
   "metadata": {
    "id": "b5IeUxDHaGkb"
   },
   "source": [
    "Очікувана відповідь: [78, 12, 14, 27, 47]"
   ]
  },
  {
   "cell_type": "markdown",
   "metadata": {
    "id": "bNqAZFcJaJDR"
   },
   "source": [
    "2. Виведіть 3 останніх елементи списку `my_list` з допомогою слайсингу."
   ]
  },
  {
   "cell_type": "code",
   "execution_count": 33,
   "metadata": {
    "execution": {
     "iopub.execute_input": "2025-06-13T21:24:32.083801Z",
     "iopub.status.busy": "2025-06-13T21:24:32.083801Z",
     "iopub.status.idle": "2025-06-13T21:24:32.091657Z",
     "shell.execute_reply": "2025-06-13T21:24:32.091657Z",
     "shell.execute_reply.started": "2025-06-13T21:24:32.083801Z"
    },
    "id": "15lgbiA4aIb3"
   },
   "outputs": [
    {
     "data": {
      "text/plain": [
       "[36, 16, 60]"
      ]
     },
     "execution_count": 33,
     "metadata": {},
     "output_type": "execute_result"
    }
   ],
   "source": [
    "my_list[-3:]"
   ]
  },
  {
   "cell_type": "markdown",
   "metadata": {
    "id": "SGhwxnmXaR3S"
   },
   "source": [
    "3. Відсортуйте за зростанням список `my_list`, запишіть результат у змінну `my_list_sorted` та виведіть значення нової змінної на екран."
   ]
  },
  {
   "cell_type": "code",
   "execution_count": 34,
   "metadata": {
    "execution": {
     "iopub.execute_input": "2025-06-13T21:24:37.069485Z",
     "iopub.status.busy": "2025-06-13T21:24:37.067475Z",
     "iopub.status.idle": "2025-06-13T21:24:37.072551Z",
     "shell.execute_reply": "2025-06-13T21:24:37.072551Z",
     "shell.execute_reply.started": "2025-06-13T21:24:37.069485Z"
    },
    "id": "IKgCwCIbaTpf"
   },
   "outputs": [],
   "source": [
    "my_list_sorted = sorted(my_list)"
   ]
  },
  {
   "cell_type": "code",
   "execution_count": 35,
   "metadata": {
    "execution": {
     "iopub.execute_input": "2025-06-13T21:24:39.405856Z",
     "iopub.status.busy": "2025-06-13T21:24:39.405856Z",
     "iopub.status.idle": "2025-06-13T21:24:39.411009Z",
     "shell.execute_reply": "2025-06-13T21:24:39.411009Z",
     "shell.execute_reply.started": "2025-06-13T21:24:39.405856Z"
    }
   },
   "outputs": [
    {
     "data": {
      "text/plain": [
       "[2,\n",
       " 3,\n",
       " 5,\n",
       " 7,\n",
       " 8,\n",
       " 8,\n",
       " 9,\n",
       " 10,\n",
       " 10,\n",
       " 10,\n",
       " 11,\n",
       " 11,\n",
       " 11,\n",
       " 12,\n",
       " 12,\n",
       " 13,\n",
       " 13,\n",
       " 14,\n",
       " 15,\n",
       " 16,\n",
       " 16,\n",
       " 17,\n",
       " 17,\n",
       " 17,\n",
       " 19,\n",
       " 20,\n",
       " 20,\n",
       " 20,\n",
       " 21,\n",
       " 23,\n",
       " 25,\n",
       " 27,\n",
       " 28,\n",
       " 28,\n",
       " 29,\n",
       " 29,\n",
       " 29,\n",
       " 29,\n",
       " 31,\n",
       " 33,\n",
       " 35,\n",
       " 36,\n",
       " 36,\n",
       " 37,\n",
       " 38,\n",
       " 40,\n",
       " 42,\n",
       " 42,\n",
       " 42,\n",
       " 44,\n",
       " 44,\n",
       " 44,\n",
       " 44,\n",
       " 45,\n",
       " 46,\n",
       " 46,\n",
       " 47,\n",
       " 47,\n",
       " 49,\n",
       " 51,\n",
       " 51,\n",
       " 51,\n",
       " 52,\n",
       " 54,\n",
       " 56,\n",
       " 57,\n",
       " 57,\n",
       " 57,\n",
       " 60,\n",
       " 61,\n",
       " 62,\n",
       " 62,\n",
       " 63,\n",
       " 65,\n",
       " 65,\n",
       " 66,\n",
       " 70,\n",
       " 71,\n",
       " 73,\n",
       " 73,\n",
       " 75,\n",
       " 75,\n",
       " 76,\n",
       " 76,\n",
       " 78,\n",
       " 79,\n",
       " 79,\n",
       " 80,\n",
       " 80,\n",
       " 81,\n",
       " 82,\n",
       " 83,\n",
       " 86,\n",
       " 94,\n",
       " 95,\n",
       " 95,\n",
       " 97,\n",
       " 98,\n",
       " 99,\n",
       " 99]"
      ]
     },
     "execution_count": 35,
     "metadata": {},
     "output_type": "execute_result"
    }
   ],
   "source": [
    "my_list_sorted"
   ]
  },
  {
   "cell_type": "markdown",
   "metadata": {
    "id": "UuOFdraAaZhF"
   },
   "source": [
    "4. Виведіть максимальний і мінімальний елемент у списку `my_list`. Сформуйте відповідь у наступному форматі\n",
    "```\n",
    "Max element  <число>\n",
    "Min element  <число>\n",
    "```\n",
    "Можна скористатись результатом з попереднього завдання, або спеціальними фукнціями."
   ]
  },
  {
   "cell_type": "code",
   "execution_count": 36,
   "metadata": {
    "execution": {
     "iopub.execute_input": "2025-06-13T21:24:42.659956Z",
     "iopub.status.busy": "2025-06-13T21:24:42.659956Z",
     "iopub.status.idle": "2025-06-13T21:24:42.663507Z",
     "shell.execute_reply": "2025-06-13T21:24:42.663507Z",
     "shell.execute_reply.started": "2025-06-13T21:24:42.659956Z"
    },
    "id": "w50-Lpjsarg3"
   },
   "outputs": [],
   "source": [
    "Max_element = max(my_list)\n",
    "Min_element = min(my_list)"
   ]
  },
  {
   "cell_type": "code",
   "execution_count": 37,
   "metadata": {
    "execution": {
     "iopub.execute_input": "2025-06-13T21:24:47.734365Z",
     "iopub.status.busy": "2025-06-13T21:24:47.734365Z",
     "iopub.status.idle": "2025-06-13T21:24:47.738360Z",
     "shell.execute_reply": "2025-06-13T21:24:47.738360Z",
     "shell.execute_reply.started": "2025-06-13T21:24:47.734365Z"
    }
   },
   "outputs": [
    {
     "name": "stdout",
     "output_type": "stream",
     "text": [
      "Max_element 99\n",
      "Min_element 2\n"
     ]
    }
   ],
   "source": [
    "print(\"Max_element\", Max_element)\n",
    "print(\"Min_element\", Min_element)"
   ]
  },
  {
   "cell_type": "markdown",
   "metadata": {
    "id": "VeS0Lr88apNZ"
   },
   "source": [
    "Очікувана відповідь:\n",
    "\n",
    "```\n",
    "Max element  99\n",
    "Min element  2\n",
    "```"
   ]
  },
  {
   "cell_type": "markdown",
   "metadata": {
    "id": "4xnVzP4fakvm"
   },
   "source": [
    "5. Створіть новий список `my_list_2`, який містить кожен 11-й елемент списку `my_list`. Виведіть `my_list_2` на екран.  \n",
    "Памʼятаємо, що перший з \"кожного одинадцятого елементу\" списку має індекс 10.\n",
    "Для виконання завдання використайте слайсинг."
   ]
  },
  {
   "cell_type": "code",
   "execution_count": 40,
   "metadata": {
    "execution": {
     "iopub.execute_input": "2025-06-13T21:29:39.969408Z",
     "iopub.status.busy": "2025-06-13T21:29:39.969408Z",
     "iopub.status.idle": "2025-06-13T21:29:39.975389Z",
     "shell.execute_reply": "2025-06-13T21:29:39.975389Z",
     "shell.execute_reply.started": "2025-06-13T21:29:39.969408Z"
    },
    "id": "DtOkWvVgaas0"
   },
   "outputs": [],
   "source": [
    "my_list_2 = my_list[10:99:11]"
   ]
  },
  {
   "cell_type": "code",
   "execution_count": 41,
   "metadata": {
    "execution": {
     "iopub.execute_input": "2025-06-13T21:29:41.540291Z",
     "iopub.status.busy": "2025-06-13T21:29:41.539286Z",
     "iopub.status.idle": "2025-06-13T21:29:41.544485Z",
     "shell.execute_reply": "2025-06-13T21:29:41.544485Z",
     "shell.execute_reply.started": "2025-06-13T21:29:41.540291Z"
    }
   },
   "outputs": [
    {
     "data": {
      "text/plain": [
       "[42, 51, 29, 2, 13, 44, 80, 66, 16]"
      ]
     },
     "execution_count": 41,
     "metadata": {},
     "output_type": "execute_result"
    }
   ],
   "source": [
    "my_list_2"
   ]
  },
  {
   "cell_type": "markdown",
   "metadata": {
    "id": "A-A6Mw_UbR8T"
   },
   "source": [
    "Очікуваний результат: `[42, 51, 29, 2, 13, 44, 80, 66, 16]`"
   ]
  }
 ],
 "metadata": {
  "colab": {
   "provenance": []
  },
  "kernelspec": {
   "display_name": "Python [conda env:base] *",
   "language": "python",
   "name": "conda-base-py"
  },
  "language_info": {
   "codemirror_mode": {
    "name": "ipython",
    "version": 3
   },
   "file_extension": ".py",
   "mimetype": "text/x-python",
   "name": "python",
   "nbconvert_exporter": "python",
   "pygments_lexer": "ipython3",
   "version": "3.12.7"
  }
 },
 "nbformat": 4,
 "nbformat_minor": 4
}
