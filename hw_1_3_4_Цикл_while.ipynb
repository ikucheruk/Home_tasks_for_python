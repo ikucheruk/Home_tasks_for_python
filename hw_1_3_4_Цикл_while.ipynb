{
 "cells": [
  {
   "cell_type": "markdown",
   "metadata": {
    "id": "15XCoYr0awZ6"
   },
   "source": [
    "#Домашнє завдання до теми \"Цикл while\""
   ]
  },
  {
   "cell_type": "markdown",
   "metadata": {
    "id": "xgCDxF5YhQSa"
   },
   "source": [
    "1. **Лічильник до заданого числа.**\n",
    "   Завдання:\n",
    "     - Створіть цикл `while`, щоб він лічив від 1 до заданого числа в змінній `limit` (включно).\n",
    "     - Виведіть кожне число, яке проходить лічильник, на екран.\n",
    "     - В кінці виведіть повідомлення \"Кінець розрахунку!\".\n"
   ]
  },
  {
   "cell_type": "code",
   "execution_count": 1,
   "metadata": {
    "execution": {
     "iopub.execute_input": "2025-06-19T20:40:16.315225Z",
     "iopub.status.busy": "2025-06-19T20:40:16.315225Z",
     "iopub.status.idle": "2025-06-19T20:40:16.322060Z",
     "shell.execute_reply": "2025-06-19T20:40:16.322060Z",
     "shell.execute_reply.started": "2025-06-19T20:40:16.315225Z"
    },
    "id": "wwSqYFCmiJTt"
   },
   "outputs": [],
   "source": [
    "limit = 9  # Задане число"
   ]
  },
  {
   "cell_type": "code",
   "execution_count": 2,
   "metadata": {
    "execution": {
     "iopub.execute_input": "2025-06-19T20:40:19.404955Z",
     "iopub.status.busy": "2025-06-19T20:40:19.404955Z",
     "iopub.status.idle": "2025-06-19T20:40:19.410562Z",
     "shell.execute_reply": "2025-06-19T20:40:19.410562Z",
     "shell.execute_reply.started": "2025-06-19T20:40:19.404955Z"
    },
    "id": "-t-kC6mJqNVx"
   },
   "outputs": [
    {
     "name": "stdout",
     "output_type": "stream",
     "text": [
      "1\n",
      "2\n",
      "3\n",
      "4\n",
      "5\n",
      "6\n",
      "7\n",
      "8\n",
      "9\n",
      "Кінець розрахунку!\n"
     ]
    }
   ],
   "source": [
    "i = 1\n",
    "while i <= limit:\n",
    "    print(i)\n",
    "    i += 1\n",
    "print (\"Кінець розрахунку!\")"
   ]
  },
  {
   "cell_type": "markdown",
   "metadata": {
    "id": "DlqunQnphZ9s"
   },
   "source": [
    "2. **Пошук першого парного числа.** Завдання:\n",
    "     - Створіть цикл `while`, щоб знайти перше парне число після заданого числа `start`.\n",
    "     - Знайдіть та виведіть перше парне число.\n"
   ]
  },
  {
   "cell_type": "code",
   "execution_count": 3,
   "metadata": {
    "execution": {
     "iopub.execute_input": "2025-06-19T20:40:24.609634Z",
     "iopub.status.busy": "2025-06-19T20:40:24.609634Z",
     "iopub.status.idle": "2025-06-19T20:40:24.614059Z",
     "shell.execute_reply": "2025-06-19T20:40:24.614059Z",
     "shell.execute_reply.started": "2025-06-19T20:40:24.609634Z"
    },
    "id": "3CC3-gNJiW6X"
   },
   "outputs": [],
   "source": [
    "start = 7  # Задане число"
   ]
  },
  {
   "cell_type": "code",
   "execution_count": 4,
   "metadata": {
    "execution": {
     "iopub.execute_input": "2025-06-19T20:40:26.294323Z",
     "iopub.status.busy": "2025-06-19T20:40:26.293323Z",
     "iopub.status.idle": "2025-06-19T20:40:26.297443Z",
     "shell.execute_reply": "2025-06-19T20:40:26.297443Z",
     "shell.execute_reply.started": "2025-06-19T20:40:26.294323Z"
    },
    "id": "5M8Ly9_Lj4-t"
   },
   "outputs": [
    {
     "name": "stdout",
     "output_type": "stream",
     "text": [
      "8\n"
     ]
    }
   ],
   "source": [
    "i = start + 1\n",
    "while i % 2 != 0:\n",
    "    i += 1\n",
    "print(i)"
   ]
  },
  {
   "cell_type": "markdown",
   "metadata": {
    "id": "OlhKezZYiQJ2"
   },
   "source": [
    "\n",
    "3. **Обчислення факторіалу.**   \n",
    "  Факторіал числа - це добуток всіх натуральних чисел від 1 до цього числа включно. Наприклад, факторіал числа 5 (позначається як 5!) дорівнює `1 * 2 * 3 * 4 * 5 = 120`.\n",
    "\n",
    "  Завдання:  \n",
    "      - Обчисліть факторіал заданого числа, використовуючи цикл `while`.  \n",
    "      - Задайте деяке число для обчислення факторіалу у змінній `num`.  \n",
    "      - Виведіть обчислений факторіал на екран.  \n"
   ]
  },
  {
   "cell_type": "code",
   "execution_count": 5,
   "metadata": {
    "execution": {
     "iopub.execute_input": "2025-06-19T20:40:29.770643Z",
     "iopub.status.busy": "2025-06-19T20:40:29.770643Z",
     "iopub.status.idle": "2025-06-19T20:40:29.774477Z",
     "shell.execute_reply": "2025-06-19T20:40:29.774477Z",
     "shell.execute_reply.started": "2025-06-19T20:40:29.770643Z"
    },
    "id": "s0JKm0Wtj5s9"
   },
   "outputs": [],
   "source": [
    "num = 10"
   ]
  },
  {
   "cell_type": "code",
   "execution_count": 6,
   "metadata": {
    "execution": {
     "iopub.execute_input": "2025-06-19T20:40:32.219579Z",
     "iopub.status.busy": "2025-06-19T20:40:32.218471Z",
     "iopub.status.idle": "2025-06-19T20:40:32.222909Z",
     "shell.execute_reply": "2025-06-19T20:40:32.222909Z",
     "shell.execute_reply.started": "2025-06-19T20:40:32.219579Z"
    }
   },
   "outputs": [
    {
     "name": "stdout",
     "output_type": "stream",
     "text": [
      "3628800\n"
     ]
    }
   ],
   "source": [
    "i = 1\n",
    "factorial = 1\n",
    "while i <= num:\n",
    "    factorial *= i\n",
    "    i += 1\n",
    "print(factorial)"
   ]
  },
  {
   "cell_type": "code",
   "execution_count": null,
   "metadata": {},
   "outputs": [],
   "source": []
  }
 ],
 "metadata": {
  "colab": {
   "provenance": []
  },
  "kernelspec": {
   "display_name": "Python [conda env:base] *",
   "language": "python",
   "name": "conda-base-py"
  },
  "language_info": {
   "codemirror_mode": {
    "name": "ipython",
    "version": 3
   },
   "file_extension": ".py",
   "mimetype": "text/x-python",
   "name": "python",
   "nbconvert_exporter": "python",
   "pygments_lexer": "ipython3",
   "version": "3.12.7"
  }
 },
 "nbformat": 4,
 "nbformat_minor": 4
}
